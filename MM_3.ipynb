{
  "nbformat": 4,
  "nbformat_minor": 0,
  "metadata": {
    "colab": {
      "provenance": []
    },
    "kernelspec": {
      "name": "python3",
      "display_name": "Python 3"
    },
    "language_info": {
      "name": "python"
    }
  },
  "cells": [
    {
      "cell_type": "code",
      "execution_count": 2,
      "metadata": {
        "id": "aynhh5WydGCM"
      },
      "outputs": [],
      "source": [
        "import random\n",
        "import matplotlib.pyplot as plt"
      ]
    },
    {
      "cell_type": "markdown",
      "source": [
        "Зобразимо нашу фігуру."
      ],
      "metadata": {
        "id": "q3RceY2afmuv"
      }
    },
    {
      "cell_type": "code",
      "source": [
        "points = [(0, 0), (1, 4), (1, 2), (3, 2), (3, 4), (4, 0), (2, 0), (2, 1), (1, 1), (1, 0), (0, 0)]\n",
        "x, y = zip(*points)\n",
        "\n",
        "plt.plot(x, y, marker='o', linestyle='-', color='m')\n",
        "\n",
        "plt.xlabel('X')\n",
        "plt.ylabel(\"Y\")\n",
        "plt.suptitle('Варіант 5', fontsize=14, fontweight='bold')\n",
        "plt.grid(True)\n",
        "\n",
        "plt.show()"
      ],
      "metadata": {
        "colab": {
          "base_uri": "https://localhost:8080/",
          "height": 497
        },
        "id": "Q2XCsfRMfqda",
        "outputId": "5b0c5feb-e073-4a15-c62d-e3891f35ecb0"
      },
      "execution_count": 3,
      "outputs": [
        {
          "output_type": "display_data",
          "data": {
            "text/plain": [
              "<Figure size 640x480 with 1 Axes>"
            ],
            "image/png": "[encoded data removed]"
          },
          "metadata": {}
        }
      ]
    },
    {
      "cell_type": "markdown",
      "source": [
        "Знаходимо площу відомого нам квадрата."
      ],
      "metadata": {
        "id": "doo7BkzDqfCn"
      }
    },
    {
      "cell_type": "code",
      "source": [
        "PI = 4 * 4\n",
        "print(f'Площа всього квадрата = {PI} кв.од.')"
      ],
      "metadata": {
        "colab": {
          "base_uri": "https://localhost:8080/"
        },
        "id": "r3DJ6RKQqq5k",
        "outputId": "089ee294-4c84-4952-86dd-57bb74b81a12"
      },
      "execution_count": 206,
      "outputs": [
        {
          "output_type": "stream",
          "name": "stdout",
          "text": [
            "Площа всього квадрата = 16 кв.од.\n"
          ]
        }
      ]
    },
    {
      "cell_type": "markdown",
      "source": [
        "Пропишемо умови точок, які потрапляють в шукану фігуру."
      ],
      "metadata": {
        "id": "0w2QOuB4rETB"
      }
    },
    {
      "cell_type": "code",
      "source": [
        "def needed_figure(x, y):\n",
        "    if y <= 4 * x and (0 <= x <= 1):\n",
        "        return  True\n",
        "    elif 1 <= y <= 2 and (1 <= x <= 2):\n",
        "        return True\n",
        "    elif 0 <= y <= 2 and (2 <= x <= 3):\n",
        "        return True\n",
        "    elif y <= (-4 * x + 16) and (3 <= x <= 4):\n",
        "        return True\n",
        "    return False"
      ],
      "metadata": {
        "id": "gJAxPWyJrRCs"
      },
      "execution_count": 16,
      "outputs": []
    },
    {
      "cell_type": "markdown",
      "source": [
        "Застосуємо алгоритм Монте-Карло."
      ],
      "metadata": {
        "id": "_O7OpLHdySg9"
      }
    },
    {
      "cell_type": "code",
      "source": [
        "def SquareMonteCarlo(n):\n",
        "    P = 0\n",
        "    for i in range(n):\n",
        "        x_test = random.uniform(0, 4)\n",
        "        y_test = random.uniform(0, 4)\n",
        "        if needed_figure(x_test, y_test) == True:\n",
        "            P += 1\n",
        "    S = (P * PI) / n\n",
        "    return S"
      ],
      "metadata": {
        "id": "JbNwjVi3yVz1"
      },
      "execution_count": 41,
      "outputs": []
    },
    {
      "cell_type": "markdown",
      "source": [
        "Для того, щоб порахувати вручну площу потрібної фігури потрібно від площі всього квадрата відняти площу 2 бокових прямокутних трикутників, площу верхнього меншого квадрата і площу нижнього ще меншого квадрата."
      ],
      "metadata": {
        "id": "i-43HDkTIc6U"
      }
    },
    {
      "cell_type": "code",
      "source": [
        "S = 16 - (2*(4*1))/2 - 2**2 - 1**2\n",
        "print(f'Площа шуканої фігури = {S} кв. од.')\n",
        "\n",
        "S1000 = SquareMonteCarlo(1000)\n",
        "print(f'Площа шуканої фігури методом Монте-Карло (1000 ітерацій) = {S1000} кв. од.')\n",
        "S2000 = SquareMonteCarlo(2000)\n",
        "print(f'Площа шуканої фігури методом Монте-Карло (2000 ітерацій) = {S2000} кв. од.')\n",
        "S3000 = SquareMonteCarlo(3000)\n",
        "print(f'Площа шуканої фігури методом Монте-Карло (3000 ітерацій) = {S3000} кв. од.')"
      ],
      "metadata": {
        "colab": {
          "base_uri": "https://localhost:8080/"
        },
        "id": "ihjRApTpI8PV",
        "outputId": "5d57dcb4-878a-4633-8d6f-2bb405d11d7c"
      },
      "execution_count": 205,
      "outputs": [
        {
          "output_type": "stream",
          "name": "stdout",
          "text": [
            "Площа шуканої фігури = 7.0 кв. од.\n",
            "Площа шуканої фігури методом Монте-Карло (1000 ітерацій) = 7.008 кв. од.\n",
            "Площа шуканої фігури методом Монте-Карло (2000 ітерацій) = 7.048 кв. од.\n",
            "Площа шуканої фігури методом Монте-Карло (3000 ітерацій) = 7.066666666666666 кв. од.\n"
          ]
        }
      ]
    },
    {
      "cell_type": "markdown",
      "source": [
        "Порівняємо результати шуканої площі вручну та методом Монте-Карло, знайшовши абсолютну похибку."
      ],
      "metadata": {
        "id": "lPmh6RjzPlms"
      }
    },
    {
      "cell_type": "code",
      "source": [
        "S_true = 7\n",
        "print(f'Абсолютна похибка методу Монте-Карло на 1000 ітерацій = {abs(S1000 - S_true)}')\n",
        "print(f'Абсолютна похибка методу Монте-Карло на 2000 ітерацій = {abs(S2000 - S_true)}')\n",
        "print(f'Абсолютна похибка методу Монте-Карло на 3000 ітерацій = {abs(S3000 - S_true)}')"
      ],
      "metadata": {
        "colab": {
          "base_uri": "https://localhost:8080/"
        },
        "id": "-HNtTXwMQANa",
        "outputId": "e4442b2d-523d-4c49-ce7f-7d765182a97e"
      },
      "execution_count": 212,
      "outputs": [
        {
          "output_type": "stream",
          "name": "stdout",
          "text": [
            "Абсолютна похибка методу Монте-Карло на 1000 ітерацій = 0.008000000000000007\n",
            "Абсолютна похибка методу Монте-Карло на 2000 ітерацій = 0.04800000000000004\n",
            "Абсолютна похибка методу Монте-Карло на 3000 ітерацій = 0.06666666666666643\n"
          ]
        }
      ]
    }
  ]
}